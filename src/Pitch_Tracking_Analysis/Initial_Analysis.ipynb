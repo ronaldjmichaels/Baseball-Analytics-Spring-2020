{
 "cells": [
  {
   "cell_type": "code",
   "execution_count": 164,
   "metadata": {},
   "outputs": [],
   "source": [
    "import pandas as pd\n",
    "import matplotlib.pyplot as plt\n",
    "import numpy as np"
   ]
  },
  {
   "cell_type": "code",
   "execution_count": 165,
   "metadata": {},
   "outputs": [],
   "source": [
    "import glob\n",
    "import os\n",
    "\n",
    "d = 'C:/Users/Luke/Desktop/University of Rochester/Spring 2020/Baseball/Pitch_Tracking/*'\n",
    "\n",
    "df_list = []\n",
    "for filepath in glob.glob(d):\n",
    "    if filepath.endswith('.csv'):\n",
    "        df = pd.read_csv(filepath)\n",
    "    else:\n",
    "        df = pd.read_excel(filepath)\n",
    "    df_list.append(df)"
   ]
  },
  {
   "cell_type": "code",
   "execution_count": 166,
   "metadata": {},
   "outputs": [],
   "source": [
    "final_df = pd.concat(df_list, sort=True)"
   ]
  },
  {
   "cell_type": "code",
   "execution_count": 167,
   "metadata": {},
   "outputs": [
    {
     "data": {
      "text/html": [
       "<div>\n",
       "<style scoped>\n",
       "    .dataframe tbody tr th:only-of-type {\n",
       "        vertical-align: middle;\n",
       "    }\n",
       "\n",
       "    .dataframe tbody tr th {\n",
       "        vertical-align: top;\n",
       "    }\n",
       "\n",
       "    .dataframe thead th {\n",
       "        text-align: right;\n",
       "    }\n",
       "</style>\n",
       "<table border=\"1\" class=\"dataframe\">\n",
       "  <thead>\n",
       "    <tr style=\"text-align: right;\">\n",
       "      <th></th>\n",
       "      <th>Inning</th>\n",
       "      <th>batter_number</th>\n",
       "      <th>count</th>\n",
       "      <th>date</th>\n",
       "      <th>executed</th>\n",
       "      <th>hit_miss</th>\n",
       "      <th>inning</th>\n",
       "      <th>notes</th>\n",
       "      <th>pitch_location</th>\n",
       "      <th>pitch_number</th>\n",
       "      <th>pitch_type</th>\n",
       "      <th>pitcher_name</th>\n",
       "    </tr>\n",
       "  </thead>\n",
       "  <tbody>\n",
       "    <tr>\n",
       "      <td>0</td>\n",
       "      <td>NaN</td>\n",
       "      <td>NaN</td>\n",
       "      <td>NaN</td>\n",
       "      <td>Wed Feb 05 2020 19:00:00 GMT-0500 (Eastern Sta...</td>\n",
       "      <td>NaN</td>\n",
       "      <td>NaN</td>\n",
       "      <td>NaN</td>\n",
       "      <td>NaN</td>\n",
       "      <td>48.0</td>\n",
       "      <td>1</td>\n",
       "      <td>0.0</td>\n",
       "      <td>Alex Muchnick</td>\n",
       "    </tr>\n",
       "    <tr>\n",
       "      <td>1</td>\n",
       "      <td>NaN</td>\n",
       "      <td>NaN</td>\n",
       "      <td>NaN</td>\n",
       "      <td>Wed Feb 05 2020 19:00:00 GMT-0500 (Eastern Sta...</td>\n",
       "      <td>NaN</td>\n",
       "      <td>NaN</td>\n",
       "      <td>NaN</td>\n",
       "      <td>NaN</td>\n",
       "      <td>37.0</td>\n",
       "      <td>2</td>\n",
       "      <td>0.0</td>\n",
       "      <td>Alex Muchnick</td>\n",
       "    </tr>\n",
       "    <tr>\n",
       "      <td>2</td>\n",
       "      <td>NaN</td>\n",
       "      <td>NaN</td>\n",
       "      <td>NaN</td>\n",
       "      <td>Wed Feb 05 2020 19:00:00 GMT-0500 (Eastern Sta...</td>\n",
       "      <td>NaN</td>\n",
       "      <td>NaN</td>\n",
       "      <td>NaN</td>\n",
       "      <td>NaN</td>\n",
       "      <td>23.0</td>\n",
       "      <td>3</td>\n",
       "      <td>0.0</td>\n",
       "      <td>Alex Muchnick</td>\n",
       "    </tr>\n",
       "    <tr>\n",
       "      <td>3</td>\n",
       "      <td>NaN</td>\n",
       "      <td>NaN</td>\n",
       "      <td>NaN</td>\n",
       "      <td>Wed Feb 05 2020 19:00:00 GMT-0500 (Eastern Sta...</td>\n",
       "      <td>NaN</td>\n",
       "      <td>NaN</td>\n",
       "      <td>NaN</td>\n",
       "      <td>NaN</td>\n",
       "      <td>25.0</td>\n",
       "      <td>4</td>\n",
       "      <td>0.0</td>\n",
       "      <td>Alex Muchnick</td>\n",
       "    </tr>\n",
       "    <tr>\n",
       "      <td>4</td>\n",
       "      <td>NaN</td>\n",
       "      <td>NaN</td>\n",
       "      <td>NaN</td>\n",
       "      <td>Wed Feb 05 2020 19:00:00 GMT-0500 (Eastern Sta...</td>\n",
       "      <td>NaN</td>\n",
       "      <td>NaN</td>\n",
       "      <td>NaN</td>\n",
       "      <td>NaN</td>\n",
       "      <td>30.0</td>\n",
       "      <td>5</td>\n",
       "      <td>2.0</td>\n",
       "      <td>Alex Muchnick</td>\n",
       "    </tr>\n",
       "  </tbody>\n",
       "</table>\n",
       "</div>"
      ],
      "text/plain": [
       "   Inning  batter_number count  \\\n",
       "0     NaN            NaN   NaN   \n",
       "1     NaN            NaN   NaN   \n",
       "2     NaN            NaN   NaN   \n",
       "3     NaN            NaN   NaN   \n",
       "4     NaN            NaN   NaN   \n",
       "\n",
       "                                                date  executed hit_miss  \\\n",
       "0  Wed Feb 05 2020 19:00:00 GMT-0500 (Eastern Sta...       NaN      NaN   \n",
       "1  Wed Feb 05 2020 19:00:00 GMT-0500 (Eastern Sta...       NaN      NaN   \n",
       "2  Wed Feb 05 2020 19:00:00 GMT-0500 (Eastern Sta...       NaN      NaN   \n",
       "3  Wed Feb 05 2020 19:00:00 GMT-0500 (Eastern Sta...       NaN      NaN   \n",
       "4  Wed Feb 05 2020 19:00:00 GMT-0500 (Eastern Sta...       NaN      NaN   \n",
       "\n",
       "   inning notes  pitch_location pitch_number  pitch_type   pitcher_name  \n",
       "0     NaN   NaN            48.0            1         0.0  Alex Muchnick  \n",
       "1     NaN   NaN            37.0            2         0.0  Alex Muchnick  \n",
       "2     NaN   NaN            23.0            3         0.0  Alex Muchnick  \n",
       "3     NaN   NaN            25.0            4         0.0  Alex Muchnick  \n",
       "4     NaN   NaN            30.0            5         2.0  Alex Muchnick  "
      ]
     },
     "execution_count": 167,
     "metadata": {},
     "output_type": "execute_result"
    }
   ],
   "source": [
    "final_df.head()"
   ]
  },
  {
   "cell_type": "code",
   "execution_count": 168,
   "metadata": {},
   "outputs": [],
   "source": [
    "ball_positions = [1,2,3,4,5,6,7,8,12,13,18,19,24,25,30,31,36,37,42,43,44,45,46,47,48]"
   ]
  },
  {
   "cell_type": "code",
   "execution_count": 169,
   "metadata": {},
   "outputs": [
    {
     "data": {
      "text/plain": [
       "(1782, 12)"
      ]
     },
     "execution_count": 169,
     "metadata": {},
     "output_type": "execute_result"
    }
   ],
   "source": [
    "final_df.shape"
   ]
  },
  {
   "cell_type": "code",
   "execution_count": 170,
   "metadata": {},
   "outputs": [],
   "source": [
    "def label_strike(row,ball_positions):\n",
    " \n",
    "    if row['pitch_location'] in ball_positions:\n",
    "        return 0\n",
    "    else:\n",
    "        return 1"
   ]
  },
  {
   "cell_type": "code",
   "execution_count": 171,
   "metadata": {},
   "outputs": [],
   "source": [
    "final_df['called_strike'] = final_df.apply(lambda row: label_strike(row, ball_positions),axis=1)"
   ]
  },
  {
   "cell_type": "code",
   "execution_count": 172,
   "metadata": {},
   "outputs": [
    {
     "data": {
      "text/plain": [
       "0.5499438832772167"
      ]
     },
     "execution_count": 172,
     "metadata": {},
     "output_type": "execute_result"
    }
   ],
   "source": [
    "final_df['called_strike'].mean()"
   ]
  },
  {
   "cell_type": "code",
   "execution_count": 181,
   "metadata": {},
   "outputs": [
    {
     "data": {
      "text/plain": [
       "(1782, 13)"
      ]
     },
     "execution_count": 181,
     "metadata": {},
     "output_type": "execute_result"
    }
   ],
   "source": [
    "final_df.shape"
   ]
  },
  {
   "cell_type": "code",
   "execution_count": 182,
   "metadata": {},
   "outputs": [],
   "source": [
    "final_df = final_df[~final_df['date'].isnull()]"
   ]
  },
  {
   "cell_type": "code",
   "execution_count": 183,
   "metadata": {},
   "outputs": [
    {
     "data": {
      "text/plain": [
       "array(['Wed Feb 05 2020 19:00:00 GMT-0500 (Eastern Standard Time)',\n",
       "       'Fri Feb 07 2020 19:00:00 GMT-0500 (Eastern Standard Time)',\n",
       "       'Wed Feb 12 2020 19:00:00 GMT-0500 (Eastern Standard Time)',\n",
       "       'Fri Jan 10 2020 19:00:00 GMT-0500 (Eastern Standard Time)',\n",
       "       'Tue Jan 14 2020 19:00:00 GMT-0500 (Eastern Standard Time)',\n",
       "       'Fri Jan 17 2020 19:00:00 GMT-0500 (Eastern Standard Time)',\n",
       "       'Sat Feb 01 2020 19:00:00 GMT-0500 (Eastern Standard Time)',\n",
       "       'Sat Feb 08 2020 19:00:00 GMT-0500 (Eastern Standard Time)',\n",
       "       'Mon Jan 27 2020 19:00:00 GMT-0500 (Eastern Standard Time)',\n",
       "       'Sat Feb 01 2020 19:00:00 GMT-0500 (EST)',\n",
       "       'Tue Feb 04 2020 19:00:00 GMT-0500 (Eastern Standard Time)',\n",
       "       'Tue Feb 11 2020 19:00:00 GMT-0500 (Eastern Standard Time)',\n",
       "       'Thu Jan 09 2020 19:00:00 GMT-0500 (Eastern Standard Time)',\n",
       "       'Mon Jan 13 2020 19:00:00 GMT-0500 (Eastern Standard Time)',\n",
       "       'Sun Jan 26 2020 19:00:00 GMT-0500 (Eastern Standard Time)'],\n",
       "      dtype=object)"
      ]
     },
     "execution_count": 183,
     "metadata": {},
     "output_type": "execute_result"
    }
   ],
   "source": [
    "final_df['date'].unique()"
   ]
  },
  {
   "cell_type": "code",
   "execution_count": 114,
   "metadata": {},
   "outputs": [
    {
     "data": {
      "text/html": [
       "<div>\n",
       "<style scoped>\n",
       "    .dataframe tbody tr th:only-of-type {\n",
       "        vertical-align: middle;\n",
       "    }\n",
       "\n",
       "    .dataframe tbody tr th {\n",
       "        vertical-align: top;\n",
       "    }\n",
       "\n",
       "    .dataframe thead th {\n",
       "        text-align: right;\n",
       "    }\n",
       "</style>\n",
       "<table border=\"1\" class=\"dataframe\">\n",
       "  <thead>\n",
       "    <tr style=\"text-align: right;\">\n",
       "      <th></th>\n",
       "      <th>Inning</th>\n",
       "      <th>batter_number</th>\n",
       "      <th>count</th>\n",
       "      <th>date</th>\n",
       "      <th>executed</th>\n",
       "      <th>hit_miss</th>\n",
       "      <th>inning</th>\n",
       "      <th>notes</th>\n",
       "      <th>pitch_location</th>\n",
       "      <th>pitch_number</th>\n",
       "      <th>pitch_type</th>\n",
       "      <th>pitcher_name</th>\n",
       "      <th>called_strike</th>\n",
       "    </tr>\n",
       "  </thead>\n",
       "  <tbody>\n",
       "    <tr>\n",
       "      <td>0</td>\n",
       "      <td>NaN</td>\n",
       "      <td>NaN</td>\n",
       "      <td>NaN</td>\n",
       "      <td>Wed Feb 05 2020 19:00:00 GMT-0500 (Eastern Sta...</td>\n",
       "      <td>NaN</td>\n",
       "      <td>NaN</td>\n",
       "      <td>NaN</td>\n",
       "      <td>NaN</td>\n",
       "      <td>48.0</td>\n",
       "      <td>1</td>\n",
       "      <td>0.0</td>\n",
       "      <td>Alex Muchnick</td>\n",
       "      <td>0</td>\n",
       "    </tr>\n",
       "    <tr>\n",
       "      <td>1</td>\n",
       "      <td>NaN</td>\n",
       "      <td>NaN</td>\n",
       "      <td>NaN</td>\n",
       "      <td>Wed Feb 05 2020 19:00:00 GMT-0500 (Eastern Sta...</td>\n",
       "      <td>NaN</td>\n",
       "      <td>NaN</td>\n",
       "      <td>NaN</td>\n",
       "      <td>NaN</td>\n",
       "      <td>37.0</td>\n",
       "      <td>2</td>\n",
       "      <td>0.0</td>\n",
       "      <td>Alex Muchnick</td>\n",
       "      <td>0</td>\n",
       "    </tr>\n",
       "    <tr>\n",
       "      <td>2</td>\n",
       "      <td>NaN</td>\n",
       "      <td>NaN</td>\n",
       "      <td>NaN</td>\n",
       "      <td>Wed Feb 05 2020 19:00:00 GMT-0500 (Eastern Sta...</td>\n",
       "      <td>NaN</td>\n",
       "      <td>NaN</td>\n",
       "      <td>NaN</td>\n",
       "      <td>NaN</td>\n",
       "      <td>23.0</td>\n",
       "      <td>3</td>\n",
       "      <td>0.0</td>\n",
       "      <td>Alex Muchnick</td>\n",
       "      <td>1</td>\n",
       "    </tr>\n",
       "    <tr>\n",
       "      <td>3</td>\n",
       "      <td>NaN</td>\n",
       "      <td>NaN</td>\n",
       "      <td>NaN</td>\n",
       "      <td>Wed Feb 05 2020 19:00:00 GMT-0500 (Eastern Sta...</td>\n",
       "      <td>NaN</td>\n",
       "      <td>NaN</td>\n",
       "      <td>NaN</td>\n",
       "      <td>NaN</td>\n",
       "      <td>25.0</td>\n",
       "      <td>4</td>\n",
       "      <td>0.0</td>\n",
       "      <td>Alex Muchnick</td>\n",
       "      <td>0</td>\n",
       "    </tr>\n",
       "    <tr>\n",
       "      <td>4</td>\n",
       "      <td>NaN</td>\n",
       "      <td>NaN</td>\n",
       "      <td>NaN</td>\n",
       "      <td>Wed Feb 05 2020 19:00:00 GMT-0500 (Eastern Sta...</td>\n",
       "      <td>NaN</td>\n",
       "      <td>NaN</td>\n",
       "      <td>NaN</td>\n",
       "      <td>NaN</td>\n",
       "      <td>30.0</td>\n",
       "      <td>5</td>\n",
       "      <td>2.0</td>\n",
       "      <td>Alex Muchnick</td>\n",
       "      <td>0</td>\n",
       "    </tr>\n",
       "  </tbody>\n",
       "</table>\n",
       "</div>"
      ],
      "text/plain": [
       "   Inning  batter_number count  \\\n",
       "0     NaN            NaN   NaN   \n",
       "1     NaN            NaN   NaN   \n",
       "2     NaN            NaN   NaN   \n",
       "3     NaN            NaN   NaN   \n",
       "4     NaN            NaN   NaN   \n",
       "\n",
       "                                                date  executed hit_miss  \\\n",
       "0  Wed Feb 05 2020 19:00:00 GMT-0500 (Eastern Sta...       NaN      NaN   \n",
       "1  Wed Feb 05 2020 19:00:00 GMT-0500 (Eastern Sta...       NaN      NaN   \n",
       "2  Wed Feb 05 2020 19:00:00 GMT-0500 (Eastern Sta...       NaN      NaN   \n",
       "3  Wed Feb 05 2020 19:00:00 GMT-0500 (Eastern Sta...       NaN      NaN   \n",
       "4  Wed Feb 05 2020 19:00:00 GMT-0500 (Eastern Sta...       NaN      NaN   \n",
       "\n",
       "   inning notes  pitch_location pitch_number  pitch_type   pitcher_name  \\\n",
       "0     NaN   NaN            48.0            1         0.0  Alex Muchnick   \n",
       "1     NaN   NaN            37.0            2         0.0  Alex Muchnick   \n",
       "2     NaN   NaN            23.0            3         0.0  Alex Muchnick   \n",
       "3     NaN   NaN            25.0            4         0.0  Alex Muchnick   \n",
       "4     NaN   NaN            30.0            5         2.0  Alex Muchnick   \n",
       "\n",
       "   called_strike  \n",
       "0              0  \n",
       "1              0  \n",
       "2              1  \n",
       "3              0  \n",
       "4              0  "
      ]
     },
     "execution_count": 114,
     "metadata": {},
     "output_type": "execute_result"
    }
   ],
   "source": [
    "final_df.head()"
   ]
  },
  {
   "cell_type": "code",
   "execution_count": 184,
   "metadata": {},
   "outputs": [],
   "source": [
    "final_df.to_csv('../data/feb_15_merged_data.csv')"
   ]
  },
  {
   "cell_type": "markdown",
   "metadata": {},
   "source": [
    "### Strike Percentage "
   ]
  },
  {
   "cell_type": "code",
   "execution_count": 70,
   "metadata": {},
   "outputs": [],
   "source": [
    "strike_percentage = final_df.groupby('pitcher_name').mean()['called_strike']\n",
    "strike_percentage= strike_percentage.sort_values()"
   ]
  },
  {
   "cell_type": "code",
   "execution_count": 160,
   "metadata": {},
   "outputs": [
    {
     "data": {
      "image/png": "[encoded data removed]",
      "text/plain": [
       "<Figure size 432x288 with 1 Axes>"
      ]
     },
     "metadata": {},
     "output_type": "display_data"
    }
   ],
   "source": [
    "people = list(strike_percentage.index)\n",
    "plt.barh(people, strike_percentage.values,  align='center')\n",
    "plt.title('Strike Percentage')\n",
    "plt.show()"
   ]
  },
  {
   "cell_type": "markdown",
   "metadata": {},
   "source": [
    "### Hit & Miss Percentage "
   ]
  },
  {
   "cell_type": "code",
   "execution_count": 185,
   "metadata": {},
   "outputs": [],
   "source": [
    "final_df2 = final_df.dropna(subset = ['hit_miss'])"
   ]
  },
  {
   "cell_type": "code",
   "execution_count": 118,
   "metadata": {},
   "outputs": [],
   "source": [
    "def label_binary_hit_miss(row):\n",
    "    if row['hit_miss'] == 'Hit':\n",
    "        return 1\n",
    "    else:\n",
    "        return 0"
   ]
  },
  {
   "cell_type": "code",
   "execution_count": 119,
   "metadata": {},
   "outputs": [
    {
     "name": "stderr",
     "output_type": "stream",
     "text": [
      "C:\\Users\\Luke\\Anaconda3\\lib\\site-packages\\ipykernel_launcher.py:1: SettingWithCopyWarning: \n",
      "A value is trying to be set on a copy of a slice from a DataFrame.\n",
      "Try using .loc[row_indexer,col_indexer] = value instead\n",
      "\n",
      "See the caveats in the documentation: http://pandas.pydata.org/pandas-docs/stable/user_guide/indexing.html#returning-a-view-versus-a-copy\n",
      "  \"\"\"Entry point for launching an IPython kernel.\n"
     ]
    }
   ],
   "source": [
    "final_df2['hit'] = final_df2.apply(lambda row: label_binary_hit_miss(row),axis=1)"
   ]
  },
  {
   "cell_type": "code",
   "execution_count": 120,
   "metadata": {},
   "outputs": [],
   "source": [
    "hm_percentage = final_df2.groupby('pitcher_name').mean()['hit']\n",
    "hm_percentage = hm_percentage.sort_values()"
   ]
  },
  {
   "cell_type": "code",
   "execution_count": 161,
   "metadata": {},
   "outputs": [
    {
     "data": {
      "image/png": "[encoded data removed]",
      "text/plain": [
       "<Figure size 432x288 with 1 Axes>"
      ]
     },
     "metadata": {},
     "output_type": "display_data"
    }
   ],
   "source": [
    "people = list(hm_percentage.index)\n",
    "plt.barh(people, hm_percentage.values,  align='center')\n",
    "plt.title('Hit & Miss Percentage')\n",
    "plt.show()"
   ]
  },
  {
   "cell_type": "code",
   "execution_count": 163,
   "metadata": {},
   "outputs": [
    {
     "data": {
      "image/png": "[encoded data removed]",
      "text/plain": [
       "<Figure size 432x288 with 1 Axes>"
      ]
     },
     "metadata": {},
     "output_type": "display_data"
    }
   ],
   "source": [
    "number_pitches = final_df['pitcher_name'].value_counts().sort_values()\n",
    "plt.barh(number_pitches.index,number_pitches.values)\n",
    "plt.title('Number of Pitches Thrown')\n",
    "plt.show()"
   ]
  }
 ],
 "metadata": {
  "kernelspec": {
   "display_name": "Python 3",
   "language": "python",
   "name": "python3"
  },
  "language_info": {
   "codemirror_mode": {
    "name": "ipython",
    "version": 3
   },
   "file_extension": ".py",
   "mimetype": "text/x-python",
   "name": "python",
   "nbconvert_exporter": "python",
   "pygments_lexer": "ipython3",
   "version": "3.6.5"
  },
  "toc": {
   "base_numbering": 1,
   "nav_menu": {},
   "number_sections": false,
   "sideBar": false,
   "skip_h1_title": false,
   "title_cell": "Table of Contents",
   "title_sidebar": "Contents",
   "toc_cell": false,
   "toc_position": {},
   "toc_section_display": false,
   "toc_window_display": false
  }
 },
 "nbformat": 4,
 "nbformat_minor": 2
}
