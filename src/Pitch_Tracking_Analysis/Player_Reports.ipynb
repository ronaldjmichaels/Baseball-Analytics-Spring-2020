{
 "cells": [
  {
   "cell_type": "markdown",
   "metadata": {},
   "source": [
    "<h1><center>U of R Baseball Pitching Analysis</center></h1>\n",
    "<a id='top_page'></a>\n",
    "***\n",
    "<table style=\"width:100%;background-color:lightyellow;border-radius:6px;\">\n",
    "<tr>\n",
    "<th><a href = \"#Alex_Muchnick\">Alex Muchnick</a></th>\n",
    "<th><a href = \"#Brendan_Shamieh\">Brendan Shamieh</a></th>\n",
    "<th><a href = \"#Dan_Agate\">Dan Agate</a></th>\n",
    "</tr>\n",
    "\n",
    "<tr>\n",
    "<td><a href = \"#Garrett_Renslow\">Garret Renslow</a></td>\n",
    "<td><a href = \"#Hank_Powers\">Hank Powers</a></td>\n",
    "<td><a href = \"#Jason_Cobert\">Jason Cobert</a></td>\n",
    "</tr>\n",
    "\n",
    "<tr>\n",
    "<td><a href = \"#John_Moses\">John Moses</a></td>\n",
    "<td><a href = \"#Jon_Turk\">Jon Turk</a></td>\n",
    "<td><a href = \"#Luke_Boylan\">Luke Boylan</a></td>\n",
    "</tr>\n",
    "\n",
    "<tr>\n",
    "<td><a href = \"#Nathan_Slenska\">Nathan Slenska</a></td>\n",
    "<td><a href = \"#Spencer_Rojahn\">Spencer Rojahn</a></td>\n",
    "<td><a href = \"#Thomas_Karpishin\">Thomas Karpishin</a></td>\n",
    "</tr>\n",
    "\n",
    "<tr>\n",
    "<td><a href = \"#Trevor_VanAllen\">Trevor Van Allen</a></td>\n",
    "<td></td>\n",
    "<td></td>\n",
    "</tr>\n",
    "\n",
    "</table>\n",
    "\n",
    "In each section the following stats can be found. Additionally the ranking of these stats for the pitcher is shown\n",
    "* Pitches per inning - done\n",
    "* percentage of pitch types\n",
    "* average strike percentage\n",
    "* average hit miss percentage - done\n",
    "* strike percentage by pitch \n",
    "* first pitch strike - done\n",
    "* pitches per batter - done\n",
    "* strike percentage when changing pitches\n",
    "***"
   ]
  },
  {
   "cell_type": "code",
   "execution_count": 2,
   "metadata": {},
   "outputs": [],
   "source": [
    "import pandas as pd\n",
    "import matplotlib.pyplot as plt"
   ]
  },
  {
   "cell_type": "code",
   "execution_count": 3,
   "metadata": {},
   "outputs": [],
   "source": [
    "df = pd.read_csv('../data/feb_15_merged_data_final.csv')\n",
    "df2 = pd.read_csv('../data/feb_29_merged_data.csv')"
   ]
  },
  {
   "cell_type": "code",
   "execution_count": 4,
   "metadata": {},
   "outputs": [],
   "source": [
    "final_df = pd.concat([df,df2],sort=False)"
   ]
  },
  {
   "cell_type": "code",
   "execution_count": 5,
   "metadata": {},
   "outputs": [],
   "source": [
    "df_live = final_df[final_df['live'] == 1]"
   ]
  },
  {
   "cell_type": "code",
   "execution_count": 6,
   "metadata": {},
   "outputs": [],
   "source": [
    "df_notlive = final_df[final_df['live'] == 0]"
   ]
  },
  {
   "cell_type": "code",
   "execution_count": 7,
   "metadata": {},
   "outputs": [],
   "source": [
    "pitchers = final_df['pitcher_name'].unique()"
   ]
  },
  {
   "cell_type": "code",
   "execution_count": 8,
   "metadata": {},
   "outputs": [],
   "source": [
    "def get_pitches_per_inning(temp_df):\n",
    "    dates = temp_df['date_converted'].unique()\n",
    "    innings = 0\n",
    "    for date in dates:\n",
    "        temp_df2 = temp_df[temp_df['date_converted'] == date]\n",
    "        innings += temp_df2['inning'].max()\n",
    "    return round(temp_df.shape[0]/innings,1) "
   ]
  },
  {
   "cell_type": "code",
   "execution_count": 9,
   "metadata": {},
   "outputs": [],
   "source": [
    "def get_pitches_per_batter(temp_df):\n",
    "    batters = sum(temp_df.groupby(['date_converted','inning']).max()['batter_number'])\n",
    "    return round(temp_df.shape[0]/batters,1)"
   ]
  },
  {
   "cell_type": "code",
   "execution_count": 10,
   "metadata": {},
   "outputs": [],
   "source": [
    "def get_hit_miss_percentage(temp_df):\n",
    "    num_hit = temp_df['hit_miss'].value_counts()['Hit']\n",
    "    return round(num_hit/temp_df.shape[0],1) * 100"
   ]
  },
  {
   "cell_type": "code",
   "execution_count": 11,
   "metadata": {},
   "outputs": [],
   "source": [
    "def get_first_pitch_strike(live_df):\n",
    "    first_pitch_strike = 0\n",
    "    total_batters = 0\n",
    "    dates = live_df['date_converted'].unique()\n",
    "    innings = int(live_df['inning'].max())\n",
    "    batters = int(live_df['batter_number'].max())\n",
    "    for date in dates:\n",
    "        temp_df = live_df[live_df['date_converted'] == date]\n",
    "        for inning in range(1,innings+1):\n",
    "            temp_df2 = temp_df[temp_df['inning'] == inning]\n",
    "            for batter in range(1,batters+1):\n",
    "                temp_df3 = temp_df2[temp_df2['batter_number'] == batter]\n",
    "                counts = temp_df3['count'].unique()\n",
    "                total_batters += 1\n",
    "                if '0b-1s' in counts:\n",
    "                    first_pitch_strike += 1\n",
    "                elif len(counts) == 0:\n",
    "                    first_pitch_strike += 1\n",
    "    return round(first_pitch_strike/total_batters,2) * 100"
   ]
  },
  {
   "cell_type": "code",
   "execution_count": 12,
   "metadata": {},
   "outputs": [],
   "source": [
    "def get_results(pitcher):\n",
    "    temp_live = df_live[df_live['pitcher_name'] == pitcher]\n",
    "    temp_notlive = df_notlive[df_notlive['pitcher_name'] == pitcher]\n",
    "    temp_df = final_df[final_df['pitcher_name'] == pitcher]\n",
    "    print('TOTAL PITCHES:', temp_df.shape[0])\n",
    "    plt.bar([1,2,3],temp_df['pitch_type'].value_counts(),tick_label=['Fastball','Breaking Ball','Change Up'])\n",
    "    plt.title(\"Distribution of Pitches\")\n",
    "    plt.show()\n",
    "    ### Live Statistics\n",
    "    print('LIVE STATISTICS')\n",
    "    pitches_per_inning = get_pitches_per_inning(temp_live)\n",
    "    print('Average Pitches per Inning ', pitches_per_inning)\n",
    "    pitches_per_batter = get_pitches_per_batter(temp_live)\n",
    "    print('Average Pitches per Batter ', pitches_per_batter)\n",
    "    first_pitch_strike_percentage = get_first_pitch_strike(temp_live)\n",
    "    print('First Pitch Strike Percentage', first_pitch_strike_percentage)\n",
    "    ### Not Live Statistics\n",
    "    print()\n",
    "    print('NOT LIVE STATISTICS')\n",
    "    hit_miss_percentage = get_hit_miss_percentage(temp_notlive)\n",
    "    print('Hit & Miss Percentage ',hit_miss_percentage,'%')\n"
   ]
  },
  {
   "cell_type": "markdown",
   "metadata": {},
   "source": [
    "### Alex Muchnick \n",
    "<a id='Alex_Muchnick'></a>\n",
    "<a href=\"#top_page\"> Top of Page </a>"
   ]
  },
  {
   "cell_type": "code",
   "execution_count": 13,
   "metadata": {},
   "outputs": [
    {
     "name": "stdout",
     "output_type": "stream",
     "text": [
      "TOTAL PITCHES: 237\n"
     ]
    },
    {
     "data": {
      "image/png": "[encoded data removed]",
      "text/plain": [
       "<Figure size 432x288 with 1 Axes>"
      ]
     },
     "metadata": {},
     "output_type": "display_data"
    },
    {
     "name": "stdout",
     "output_type": "stream",
     "text": [
      "LIVE STATISTICS\n",
      "Average Pitches per Inning  14.3\n",
      "Average Pitches per Batter  3.9\n",
      "First Pitch Strike Percentage 76.0\n",
      "\n",
      "NOT LIVE STATISTICS\n",
      "Hit & Miss Percentage  40.0 %\n"
     ]
    }
   ],
   "source": [
    "get_results('Alex Muchnick')"
   ]
  },
  {
   "cell_type": "markdown",
   "metadata": {},
   "source": [
    "### Garrett Renslow\n",
    "<a id='Garrett_Renslow'></a>\n",
    "<a href=\"#top_page\"> Top of Page </a>"
   ]
  },
  {
   "cell_type": "code",
   "execution_count": 14,
   "metadata": {},
   "outputs": [
    {
     "name": "stdout",
     "output_type": "stream",
     "text": [
      "TOTAL PITCHES: 476\n"
     ]
    },
    {
     "data": {
      "image/png": "[encoded data removed]",
      "text/plain": [
       "<Figure size 432x288 with 1 Axes>"
      ]
     },
     "metadata": {},
     "output_type": "display_data"
    },
    {
     "name": "stdout",
     "output_type": "stream",
     "text": [
      "LIVE STATISTICS\n",
      "Average Pitches per Inning  14.7\n",
      "Average Pitches per Batter  4.0\n",
      "First Pitch Strike Percentage 65.0\n",
      "\n",
      "NOT LIVE STATISTICS\n",
      "Hit & Miss Percentage  30.0 %\n"
     ]
    }
   ],
   "source": [
    "get_results('Garrett Renslow')"
   ]
  },
  {
   "cell_type": "markdown",
   "metadata": {},
   "source": [
    "### Nathan Slenska\n",
    "<a id='Nathan_Slenska'></a>\n",
    "<a href=\"#top_page\"> Top of Page </a>"
   ]
  },
  {
   "cell_type": "code",
   "execution_count": 16,
   "metadata": {},
   "outputs": [
    {
     "name": "stdout",
     "output_type": "stream",
     "text": [
      "TOTAL PITCHES: 425\n"
     ]
    },
    {
     "data": {
      "image/png": "[encoded data removed]",
      "text/plain": [
       "<Figure size 432x288 with 1 Axes>"
      ]
     },
     "metadata": {},
     "output_type": "display_data"
    },
    {
     "name": "stdout",
     "output_type": "stream",
     "text": [
      "LIVE STATISTICS\n",
      "Average Pitches per Inning  14.4\n",
      "Average Pitches per Batter  3.9\n",
      "First Pitch Strike Percentage 72.0\n",
      "\n",
      "NOT LIVE STATISTICS\n",
      "Hit & Miss Percentage  20.0 %\n"
     ]
    }
   ],
   "source": [
    "get_results('Nathan Slenska')"
   ]
  },
  {
   "cell_type": "markdown",
   "metadata": {},
   "source": [
    "### Trevor Van Allen\n",
    "<a id='Trevor_VanAllen'></a>\n",
    "<a href=\"#top_page\"> Top of Page </a>"
   ]
  },
  {
   "cell_type": "code",
   "execution_count": 18,
   "metadata": {},
   "outputs": [
    {
     "name": "stdout",
     "output_type": "stream",
     "text": [
      "TOTAL PITCHES: 457\n"
     ]
    },
    {
     "data": {
      "image/png": "[encoded data removed]",
      "text/plain": [
       "<Figure size 432x288 with 1 Axes>"
      ]
     },
     "metadata": {},
     "output_type": "display_data"
    },
    {
     "name": "stdout",
     "output_type": "stream",
     "text": [
      "LIVE STATISTICS\n",
      "Average Pitches per Inning  nan\n",
      "Average Pitches per Batter  nan\n",
      "First Pitch Strike Percentage 93.0\n",
      "\n",
      "NOT LIVE STATISTICS\n",
      "Hit & Miss Percentage  20.0 %\n"
     ]
    }
   ],
   "source": [
    "get_results('Trevor Van Allen')"
   ]
  },
  {
   "cell_type": "markdown",
   "metadata": {},
   "source": [
    "### Brendan Shamieh\n",
    "<a id='Brendan_Shamieh'></a>\n",
    "<a href=\"#top_page\"> Top of Page </a>"
   ]
  },
  {
   "cell_type": "code",
   "execution_count": 19,
   "metadata": {},
   "outputs": [
    {
     "name": "stdout",
     "output_type": "stream",
     "text": [
      "TOTAL PITCHES: 325\n"
     ]
    },
    {
     "data": {
      "image/png": "[encoded data removed]",
      "text/plain": [
       "<Figure size 432x288 with 1 Axes>"
      ]
     },
     "metadata": {},
     "output_type": "display_data"
    },
    {
     "name": "stdout",
     "output_type": "stream",
     "text": [
      "LIVE STATISTICS\n",
      "Average Pitches per Inning  15.7\n",
      "Average Pitches per Batter  4.2\n",
      "First Pitch Strike Percentage 64.0\n",
      "\n",
      "NOT LIVE STATISTICS\n",
      "Hit & Miss Percentage  10.0 %\n"
     ]
    }
   ],
   "source": [
    "get_results('Brendan Shamieh')"
   ]
  },
  {
   "cell_type": "markdown",
   "metadata": {},
   "source": [
    "### Hank Powers\n",
    "<a id='Hank_Powers'></a>\n",
    "<a href=\"#top_page\"> Top of Page </a>"
   ]
  },
  {
   "cell_type": "code",
   "execution_count": 20,
   "metadata": {},
   "outputs": [
    {
     "name": "stdout",
     "output_type": "stream",
     "text": [
      "TOTAL PITCHES: 340\n"
     ]
    },
    {
     "data": {
      "image/png": "[encoded data removed]",
      "text/plain": [
       "<Figure size 432x288 with 1 Axes>"
      ]
     },
     "metadata": {},
     "output_type": "display_data"
    },
    {
     "name": "stdout",
     "output_type": "stream",
     "text": [
      "LIVE STATISTICS\n",
      "Average Pitches per Inning  nan\n",
      "Average Pitches per Batter  nan\n",
      "First Pitch Strike Percentage 91.0\n",
      "\n",
      "NOT LIVE STATISTICS\n",
      "Hit & Miss Percentage  30.0 %\n"
     ]
    }
   ],
   "source": [
    "get_results('Hank Powers')"
   ]
  },
  {
   "cell_type": "markdown",
   "metadata": {},
   "source": [
    "### Jon Turk\n",
    "<a id='Jon_Turk'></a>\n",
    "<a href=\"#top_page\"> Top of Page </a>"
   ]
  },
  {
   "cell_type": "code",
   "execution_count": 22,
   "metadata": {},
   "outputs": [],
   "source": [
    "# get_results('Jon Turk')"
   ]
  },
  {
   "cell_type": "markdown",
   "metadata": {},
   "source": [
    "### Spencer Rojahn\n",
    "<a id='Spencer_Rojahn'></a>\n",
    "<a href=\"#top_page\"> Top of Page </a>"
   ]
  },
  {
   "cell_type": "code",
   "execution_count": 24,
   "metadata": {},
   "outputs": [
    {
     "name": "stdout",
     "output_type": "stream",
     "text": [
      "TOTAL PITCHES: 247\n"
     ]
    },
    {
     "data": {
      "image/png": "[encoded data removed]",
      "text/plain": [
       "<Figure size 432x288 with 1 Axes>"
      ]
     },
     "metadata": {},
     "output_type": "display_data"
    },
    {
     "name": "stdout",
     "output_type": "stream",
     "text": [
      "LIVE STATISTICS\n",
      "Average Pitches per Inning  nan\n",
      "Average Pitches per Batter  4.9\n",
      "First Pitch Strike Percentage 91.0\n",
      "\n",
      "NOT LIVE STATISTICS\n",
      "Hit & Miss Percentage  20.0 %\n"
     ]
    }
   ],
   "source": [
    "get_results('Spencer Rojahn')"
   ]
  },
  {
   "cell_type": "markdown",
   "metadata": {},
   "source": [
    "### Dan Agate\n",
    "<a id='Dan_Agate'></a>\n",
    "<a href=\"#top_page\"> Top of Page </a>"
   ]
  },
  {
   "cell_type": "code",
   "execution_count": 26,
   "metadata": {},
   "outputs": [
    {
     "name": "stdout",
     "output_type": "stream",
     "text": [
      "TOTAL PITCHES: 424\n"
     ]
    },
    {
     "data": {
      "image/png": "[encoded data removed]",
      "text/plain": [
       "<Figure size 432x288 with 1 Axes>"
      ]
     },
     "metadata": {},
     "output_type": "display_data"
    },
    {
     "name": "stdout",
     "output_type": "stream",
     "text": [
      "LIVE STATISTICS\n",
      "Average Pitches per Inning  nan\n",
      "Average Pitches per Batter  nan\n",
      "First Pitch Strike Percentage 73.0\n",
      "\n",
      "NOT LIVE STATISTICS\n",
      "Hit & Miss Percentage  10.0 %\n"
     ]
    }
   ],
   "source": [
    "get_results('Dan Agate')"
   ]
  },
  {
   "cell_type": "markdown",
   "metadata": {},
   "source": [
    "### Jason Cobert\n",
    "<a id='Jason_Cobert'></a>\n",
    "<a href=\"#top_page\"> Top of Page </a>"
   ]
  },
  {
   "cell_type": "code",
   "execution_count": 27,
   "metadata": {
    "scrolled": true
   },
   "outputs": [
    {
     "name": "stdout",
     "output_type": "stream",
     "text": [
      "TOTAL PITCHES: 245\n"
     ]
    },
    {
     "data": {
      "image/png": "[encoded data removed]",
      "text/plain": [
       "<Figure size 432x288 with 1 Axes>"
      ]
     },
     "metadata": {},
     "output_type": "display_data"
    },
    {
     "name": "stdout",
     "output_type": "stream",
     "text": [
      "LIVE STATISTICS\n",
      "Average Pitches per Inning  nan\n",
      "Average Pitches per Batter  nan\n",
      "First Pitch Strike Percentage 88.0\n",
      "\n",
      "NOT LIVE STATISTICS\n",
      "Hit & Miss Percentage  20.0 %\n"
     ]
    }
   ],
   "source": [
    "get_results('Jason Cobert')"
   ]
  },
  {
   "cell_type": "markdown",
   "metadata": {},
   "source": [
    "### Luke Boylan\n",
    "<a id='Luke_Boylan'></a>\n",
    "<a href=\"#top_page\"> Top of Page </a>"
   ]
  },
  {
   "cell_type": "code",
   "execution_count": 28,
   "metadata": {},
   "outputs": [
    {
     "name": "stdout",
     "output_type": "stream",
     "text": [
      "TOTAL PITCHES: 279\n"
     ]
    },
    {
     "data": {
      "image/png": "[encoded data removed]",
      "text/plain": [
       "<Figure size 432x288 with 1 Axes>"
      ]
     },
     "metadata": {},
     "output_type": "display_data"
    },
    {
     "name": "stdout",
     "output_type": "stream",
     "text": [
      "LIVE STATISTICS\n",
      "Average Pitches per Inning  17.1\n",
      "Average Pitches per Batter  4.8\n",
      "First Pitch Strike Percentage 67.0\n",
      "\n",
      "NOT LIVE STATISTICS\n",
      "Hit & Miss Percentage  10.0 %\n"
     ]
    }
   ],
   "source": [
    "get_results('Luke Boylan')"
   ]
  },
  {
   "cell_type": "markdown",
   "metadata": {},
   "source": [
    "### Thomas Karpishin\n",
    "<a id='Thomas_Karpishin'></a>\n",
    "<a href=\"#top_page\"> Top of Page </a>"
   ]
  },
  {
   "cell_type": "code",
   "execution_count": 29,
   "metadata": {},
   "outputs": [
    {
     "name": "stdout",
     "output_type": "stream",
     "text": [
      "TOTAL PITCHES: 221\n"
     ]
    },
    {
     "data": {
      "image/png": "[encoded data removed]",
      "text/plain": [
       "<Figure size 432x288 with 1 Axes>"
      ]
     },
     "metadata": {},
     "output_type": "display_data"
    },
    {
     "name": "stdout",
     "output_type": "stream",
     "text": [
      "LIVE STATISTICS\n",
      "Average Pitches per Inning  nan\n",
      "Average Pitches per Batter  nan\n",
      "First Pitch Strike Percentage 100.0\n",
      "\n",
      "NOT LIVE STATISTICS\n",
      "Hit & Miss Percentage  50.0 %\n"
     ]
    }
   ],
   "source": [
    "get_results('Thomas Karpishin')"
   ]
  },
  {
   "cell_type": "code",
   "execution_count": null,
   "metadata": {},
   "outputs": [],
   "source": []
  }
 ],
 "metadata": {
  "kernelspec": {
   "display_name": "Python 3",
   "language": "python",
   "name": "python3"
  },
  "language_info": {
   "codemirror_mode": {
    "name": "ipython",
    "version": 3
   },
   "file_extension": ".py",
   "mimetype": "text/x-python",
   "name": "python",
   "nbconvert_exporter": "python",
   "pygments_lexer": "ipython3",
   "version": "3.6.5"
  },
  "toc": {
   "base_numbering": 1,
   "nav_menu": {},
   "number_sections": false,
   "sideBar": false,
   "skip_h1_title": false,
   "title_cell": "Table of Contents",
   "title_sidebar": "Contents",
   "toc_cell": false,
   "toc_position": {},
   "toc_section_display": false,
   "toc_window_display": false
  }
 },
 "nbformat": 4,
 "nbformat_minor": 2
}
